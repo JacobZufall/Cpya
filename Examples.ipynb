{
 "cells": [
  {
   "cell_type": "markdown",
   "source": [
    "# PyActy Examples\n",
    "\n",
    "This file contains examples of what PyActy can be useful for."
   ],
   "metadata": {
    "collapsed": false
   },
   "id": "dbaa7564841dc4f9"
  },
  {
   "cell_type": "markdown",
   "source": [
    "## Test of Details\n",
    "\n",
    "Tests of details are procedures carried out in an audit to verify specific financial statement assertions regarding transactions, balances, disclosures, etc.\n",
    "\n",
    "Using PyActy, you can re-do what a client has done for a specific asset to test an asset's valuation. We'll use the `TangibleAsset` class in the following example:\n",
    "\n",
    "> During an audit of Year 3, you select a computer to test the valuation of. The supporting documentation states that the client purchased this computer January 1, Year 1 for 4,500. The client assigned the computer a salvage value of 50, a life of 5 years as suggested by U.S. GAAP, and has consistently depreciated it using the straight-line method. The computer currently has a net value of 600 on the client's books."
   ],
   "metadata": {
    "collapsed": false
   },
   "id": "437643ef5ce2ac53"
  },
  {
   "cell_type": "code",
   "id": "initial_id",
   "metadata": {
    "collapsed": true,
    "ExecuteTime": {
     "end_time": "2024-11-19T23:11:49.085428Z",
     "start_time": "2024-11-19T23:11:49.069966Z"
    }
   },
   "source": [
    "# Currently, there is a plan to add U.S. GAAP assets to PyActy, which have some attributes pre-defined, such as life.\n",
    "from pyacty import TangibleAsset\n",
    "\n",
    "clients_bv: float = 600.0\n",
    "\n",
    "# Step 1: re-create the asset using the TangibleAsset class.\n",
    "# We need to input the life in months, so we do 12 months times 5 years.\n",
    "computer: TangibleAsset = TangibleAsset(\"Computer\", (12 * 5), 4_500.0, 50.0)\n",
    "\n",
    "# Step 2: depreciate it straight-line (method 0) for 3 years (12 months times 3).\n",
    "computer.depreciate(0, (12 * 3))\n",
    "\n",
    "# If needed, we can check to see how much has been depreciated so far, or how much was just depreciated.\n",
    "print(computer.total_depr)\n",
    "print(computer.depreciable_value)\n",
    "\n",
    "# Step 3: compare the recalculated value to the value on the client's books.\n",
    "print(f\"Client's value: {clients_bv}\")\n",
    "print(f\"Recalculated value: {computer.value}\")\n",
    "# We can use the assert keyword. If the client's book value is correct, nothing will happen. If it isn't, the code will throw an AssertionError.\n",
    "assert clients_bv == computer.value\n"
   ],
   "outputs": [
    {
     "name": "stdout",
     "output_type": "stream",
     "text": [
      "$2,670\n",
      "$1,780\n",
      "Client's value: 600.0\n",
      "Recalculated value: $4,500\n"
     ]
    },
    {
     "ename": "AssertionError",
     "evalue": "",
     "output_type": "error",
     "traceback": [
      "\u001B[1;31m---------------------------------------------------------------------------\u001B[0m",
      "\u001B[1;31mAssertionError\u001B[0m                            Traceback (most recent call last)",
      "Cell \u001B[1;32mIn[3], line 21\u001B[0m\n\u001B[0;32m     19\u001B[0m \u001B[38;5;28mprint\u001B[39m(\u001B[38;5;124mf\u001B[39m\u001B[38;5;124m\"\u001B[39m\u001B[38;5;124mRecalculated value: \u001B[39m\u001B[38;5;132;01m{\u001B[39;00mcomputer\u001B[38;5;241m.\u001B[39mvalue\u001B[38;5;132;01m}\u001B[39;00m\u001B[38;5;124m\"\u001B[39m)\n\u001B[0;32m     20\u001B[0m \u001B[38;5;66;03m# We can use the assert keyword. If the client's book value is correct, nothing will happen. If it isn't, the code will throw an AssertionError.\u001B[39;00m\n\u001B[1;32m---> 21\u001B[0m \u001B[38;5;28;01massert\u001B[39;00m clients_bv \u001B[38;5;241m==\u001B[39m computer\u001B[38;5;241m.\u001B[39mvalue\n",
      "\u001B[1;31mAssertionError\u001B[0m: "
     ]
    }
   ],
   "execution_count": 3
  }
 ],
 "metadata": {
  "kernelspec": {
   "display_name": "Python 3",
   "language": "python",
   "name": "python3"
  },
  "language_info": {
   "codemirror_mode": {
    "name": "ipython",
    "version": 2
   },
   "file_extension": ".py",
   "mimetype": "text/x-python",
   "name": "python",
   "nbconvert_exporter": "python",
   "pygments_lexer": "ipython2",
   "version": "2.7.6"
  }
 },
 "nbformat": 4,
 "nbformat_minor": 5
}
