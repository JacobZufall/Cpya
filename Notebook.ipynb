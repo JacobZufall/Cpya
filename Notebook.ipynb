{
 "cells": [
  {
   "cell_type": "markdown",
   "source": [
    "### This Notebook is only for testing snippets of code. Deleting it won't damage anything."
   ],
   "metadata": {
    "collapsed": false
   },
   "id": "8e126855fa820f8f"
  },
  {
   "cell_type": "code",
   "outputs": [
    {
     "name": "stdout",
     "output_type": "stream",
     "text": [
      "1\n",
      "2\n",
      "3\n",
      "4\n",
      "5\n",
      "15\n"
     ]
    }
   ],
   "source": [
    "result: int = 0\n",
    "\n",
    "for i in range(1, 6):\n",
    "    print(i)\n",
    "    result += i\n",
    "    \n",
    "print(result)"
   ],
   "metadata": {
    "collapsed": false,
    "ExecuteTime": {
     "end_time": "2024-01-25T00:45:34.225246Z",
     "start_time": "2024-01-25T00:45:34.214799Z"
    }
   },
   "id": "337103a0ece93b98",
   "execution_count": 16
  }
 ],
 "metadata": {
  "kernelspec": {
   "display_name": "Python 3",
   "language": "python",
   "name": "python3"
  },
  "language_info": {
   "codemirror_mode": {
    "name": "ipython",
    "version": 2
   },
   "file_extension": ".py",
   "mimetype": "text/x-python",
   "name": "python",
   "nbconvert_exporter": "python",
   "pygments_lexer": "ipython2",
   "version": "2.7.6"
  }
 },
 "nbformat": 4,
 "nbformat_minor": 5
}
