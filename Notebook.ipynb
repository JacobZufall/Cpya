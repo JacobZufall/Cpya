{
 "cells": [
  {
   "cell_type": "markdown",
   "source": [
    "### This Notebook is only for testing snippets of code. Deleting it won't damage anything."
   ],
   "metadata": {
    "collapsed": false
   },
   "id": "8e126855fa820f8f"
  },
  {
   "cell_type": "code",
   "outputs": [
    {
     "name": "stdout",
     "output_type": "stream",
     "text": [
      "1\n",
      "2\n",
      "3\n",
      "4\n",
      "5\n",
      "15\n"
     ]
    }
   ],
   "source": [
    "result: int = 0\n",
    "\n",
    "for i in range(1, 6):\n",
    "    print(i)\n",
    "    result += i\n",
    "    \n",
    "print(result)"
   ],
   "metadata": {
    "collapsed": false,
    "ExecuteTime": {
     "end_time": "2024-01-30T03:21:52.433715100Z",
     "start_time": "2024-01-30T03:21:52.419667200Z"
    }
   },
   "id": "337103a0ece93b98",
   "execution_count": 27
  },
  {
   "cell_type": "code",
   "outputs": [],
   "source": [
    "from src.taxpy.assets.tangible_asset import TangibleAsset\n",
    "\n",
    "def reset_scenarios(scenario_table: dict[str:any]) -> None:\n",
    "    \"\"\"\n",
    "    Resets all test cases in a given table.\n",
    "    :return: Nothing.\n",
    "    \"\"\"\n",
    "    for j, w in scenario_table.items():\n",
    "        w.reset()\n",
    "\n",
    "\n",
    "scenarios: dict[str:TangibleAsset] = {\n",
    "    \"scenario_01\": TangibleAsset(\"Computer\", (5 * 12), 1_000, 100),\n",
    "    \"scenario_02\": TangibleAsset(\"Furniture\", (7 * 12), 50_000, 2_000),\n",
    "    \"scenario_03\": TangibleAsset(\"Truck\", (10 * 12), 100_000, 0)\n",
    "}\n",
    "\n",
    "calc_conditions: dict[str:any] = {\n",
    "    \"test_periods\": 12,\n",
    "    \"db_decline\": 1.5,\n",
    "    \"units_prod\": 5_000\n",
    "}\n",
    "\n",
    "# Straight-line depreciation test.\n",
    "for i, v in scenarios.items():\n",
    "    v.depreciate(0, calc_conditions[\"test_periods\"])\n",
    "\n",
    "    assert v.depr_value == v.value - v.slvg_value\n",
    "    assert v.amt_depr == ((v.def_value - v.slvg_value) / v.life) * calc_conditions[\"test_periods\"]\n",
    "\n",
    "reset_scenarios(scenarios)"
   ],
   "metadata": {
    "collapsed": false,
    "ExecuteTime": {
     "end_time": "2024-01-30T03:21:52.463331200Z",
     "start_time": "2024-01-30T03:21:52.427688300Z"
    }
   },
   "id": "c5187c4669f660dd",
   "execution_count": 28
  }
 ],
 "metadata": {
  "kernelspec": {
   "display_name": "Python 3",
   "language": "python",
   "name": "python3"
  },
  "language_info": {
   "codemirror_mode": {
    "name": "ipython",
    "version": 2
   },
   "file_extension": ".py",
   "mimetype": "text/x-python",
   "name": "python",
   "nbconvert_exporter": "python",
   "pygments_lexer": "ipython2",
   "version": "2.7.6"
  }
 },
 "nbformat": 4,
 "nbformat_minor": 5
}
